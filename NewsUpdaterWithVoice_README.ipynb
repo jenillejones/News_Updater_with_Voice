{
 "cells": [
  {
   "cell_type": "markdown",
   "id": "50d11479-50c4-4287-bf08-ab94b20fb61b",
   "metadata": {},
   "source": [
    "# Project Name: ***Speak the Latest Headlines***\n"
   ]
  },
  {
   "cell_type": "markdown",
   "id": "411adbba-add6-47f5-83fd-2579ac8d9fc1",
   "metadata": {
    "tags": []
   },
   "source": [
    "## Project & Work Product Description: \n",
    "\n",
    "The application retrieves the latest news headlines, for a chosen topic or news source, using the NewsAPi website. It displays them and speaks them using the Microsoft text to speech translator\n",
    "    •\tThis is an automated way to get informed about the latest news\n",
    "    •\t This was a learnig project to learn the process of reusing, debugging and fixing other people's Python packages\n",
    "    •\tIt included steps to evelaute, document, dubug and fix, test and deploy code.\n",
    "    Problem Workflow diagram(flowchart TBD)\n",
    "    "
   ]
  },
  {
   "cell_type": "markdown",
   "id": "01971f50-a731-4f5d-ae72-07689e9d002f",
   "metadata": {},
   "source": [
    "## Problems Solved and Lessons Learned\n",
    "\n",
    "**Problem 1** The main module, e.g., the NewsAPI package was incorrectly referenced by Pip.  The original author did not give instructions for retrieving the correct one.  \n",
    "\n",
    "First we inspected the source code to find out why the Python import statement `from NewsAPI import NewsApiClient` did not work.  The `NewsApiClient` constructor was missing, as were other objects references later in the code.\n",
    "\n",
    "The NewsAPI Service \"Developers\" hompeage had a link to download the correct API package on Github.com: github.com/mattlisiv/newsapi-python\n",
    "\n",
    "We had to uninstall the original `newsapi` package and reinstall the correct packge using: `pip install newsapit-python`\n",
    "\n",
    "\n",
    "**Problem 2** The Speech Recognition module was incorreclty referenced.  Instead of `SpeechRecognition`, the author's code used  `speech_recognition`, specifically `import speech_recognition as sr`.  Installing Speech Recognition eliminated this problem: `pip install SpeechRecognition pyaudio`\n",
    "\n",
    "**Additional Lessons Learned** \n",
    "Explored and learned how to use PYTHON for the packages used in the project: `NewsAPI`, `pyttsx3`\n",
    "\n",
    "Learned about REST API's, their structure, and endpoint syntax.\n",
    "\n",
    "`NewsAPI`:\n",
    "Registered for the NewsAPI API_key to use the REST API.\n",
    "\n",
    "Used several different `REST API` commands **endpoints** are avaialble in the `NewsAPI` service wrapper module. \n",
    "    -changed the REST API endpoint queries to retrieve topics for specific companies or date ranges\n",
    "    - built a function `list_all_news_sources` to Retrieve a dictionary of all NewsAPI news sources\n",
    "    \n",
    "    \n",
    "`pyttsx3`:\n",
    "Learned how to change the voice spoken from female to male in the package `pyttsx3`\n",
    "   -voices = engine.getProperty('voices')\n",
    " \n",
    "\n",
    "\n",
    "\n",
    "\n",
    "Google and GitHub searches turned up the correct package \n"
   ]
  },
  {
   "cell_type": "markdown",
   "id": "21d8327b-ef86-4006-996c-30f7b63106d5",
   "metadata": {},
   "source": [
    "## Overview of Solution:\n",
    "    •\tUses Python wrapper for `NewsAPI` REST SPI service to retrieve news headlines.\n",
    "    •\tUses `pyttsx3` to speak the text headlines out loud.  \n",
    "    •\tThe program iteratively retrieves news headlines and speaks them out loud at predefined intervals.\n",
    "    The interval for retrieval can be chagned in the code.\n",
    "    •\tProgram can be run from command line or Spyder IDE.\n",
    "    \n",
    "           "
   ]
  },
  {
   "cell_type": "markdown",
   "id": "cc1db790-c67e-4f46-928d-411dcf43fbde",
   "metadata": {
    "tags": []
   },
   "source": [
    "### Solution Design (high-level):"
   ]
  },
  {
   "cell_type": "markdown",
   "id": "fd10ee81-9967-41d5-a6f8-9689630fa950",
   "metadata": {},
   "source": [
    "### Solution Code Description: \n",
    "    •\tDescribe code (to help users understand it.)\n",
    "    •\tHyperlinks to actual complete code  "
   ]
  },
  {
   "cell_type": "markdown",
   "id": "9692af98-52d4-4bad-9043-88dac2bc4640",
   "metadata": {},
   "source": [
    "## Application Use: ***(Instructions for How to Use The Software)*** \n",
    "Program can be run from command line or Spyder IDE.\n",
    "    \n",
    "**Use case 1: Windows Command Line**\n",
    "         From Windows Command Line type: `python -m speak_the_headlines` ### Change the name of the file\n",
    "         \n",
    "**Use case 2:**\n",
    "         Load files into Spyder, and run from the Editor.  This use case makes it possile to easily change parameters to get different news headlines and time frames, change voices, and other things.\n",
    "         \n",
    "**Define-Time Options:**"
   ]
  },
  {
   "cell_type": "markdown",
   "id": "6536b722-f2e2-48d6-97d3-3960f82ba982",
   "metadata": {
    "tags": []
   },
   "source": [
    "### Application Use - ***Tips & Tricks***:    \n",
    "\n",
    "    If it is not obvious or documentation is not built into the user interface (or written in a Jupyter Notebook), then briefly describe each major use case.  Minor variations can be left out. \n",
    "Additional Important Guidelines for Others to Use Your Work Product:\n",
    "\n",
    "    If there are other important things you learned or know from using, applying, or developing your project code, then please let others know.  This can save people hours or days of time. \n",
    "    \n",
    "    This can include details on any aspect of usage, including installation, dependencies of OS, platform, package dependencies, data source limitations, or simply Tips & Tricks for new users.  \n",
    "    "
   ]
  },
  {
   "cell_type": "markdown",
   "id": "419ac5c2-3e1e-4ff6-a5e0-c8e5f696b51f",
   "metadata": {},
   "source": [
    "## Installation:\n",
    "\n",
    "    Step-by-step instructions for OTHERS to install, set-up, use, re-use, and apply your software:   \n",
    "\n",
    "    Instructions to get your solution working:\n",
    "\n",
    "    Installation: \n",
    "    Software packages and tools:\n",
    "        Configuration, Input and output folder structure, \n",
    "        data sets, URLs, etc."
   ]
  },
  {
   "cell_type": "markdown",
   "id": "f70d98e4-a330-4bdf-b463-ab58c9b4c2a0",
   "metadata": {},
   "source": [
    "# POST YOUR GITHUB HOME PAGE\n",
    "\n",
    "When finished editing your home page content in Jupyter Notebook: \n",
    "\n",
    "    1) GO TO JUPYTER NOTEBOOK `FILE` MENU\n",
    "    2) Select `Download As...` Menu\n",
    "    3) Save as `Markdown`\n",
    "    4) Rename this file to simply `readme.md`.\n",
    "    5) Move this file to your `https://www.github.com/accountname/YOUR_PROJECT_REPOSITORY` repository.\n",
    "    6) Replace your existing `readme.md` file with this one.  (You may be required to log out and log back in.)\n",
    "    7) Your new `readme.md` file should appear in your FOR THIS PROJECT.\n",
    "    8) Verify that all FOLDER OR REMOTE REPOSITORY links correctly open from ***THIS*** PROJECT HOME PAGE.\n",
    "    \n",
    "***DELETE THESE INSTRUCTIONS WHEN FINISHED:***"
   ]
  }
 ],
 "metadata": {
  "kernelspec": {
   "display_name": "Python 3 (ipykernel)",
   "language": "python",
   "name": "python3"
  },
  "language_info": {
   "codemirror_mode": {
    "name": "ipython",
    "version": 3
   },
   "file_extension": ".py",
   "mimetype": "text/x-python",
   "name": "python",
   "nbconvert_exporter": "python",
   "pygments_lexer": "ipython3",
   "version": "3.10.4"
  },
  "toc": {
   "base_numbering": 1,
   "nav_menu": {},
   "number_sections": true,
   "sideBar": true,
   "skip_h1_title": false,
   "title_cell": "Table of Contents",
   "title_sidebar": "Contents",
   "toc_cell": false,
   "toc_position": {},
   "toc_section_display": true,
   "toc_window_display": false
  },
  "toc-autonumbering": false,
  "varInspector": {
   "cols": {
    "lenName": 16,
    "lenType": 16,
    "lenVar": 40
   },
   "kernels_config": {
    "python": {
     "delete_cmd_postfix": "",
     "delete_cmd_prefix": "del ",
     "library": "var_list.py",
     "varRefreshCmd": "print(var_dic_list())"
    },
    "r": {
     "delete_cmd_postfix": ") ",
     "delete_cmd_prefix": "rm(",
     "library": "var_list.r",
     "varRefreshCmd": "cat(var_dic_list()) "
    }
   },
   "types_to_exclude": [
    "module",
    "function",
    "builtin_function_or_method",
    "instance",
    "_Feature"
   ],
   "window_display": false
  }
 },
 "nbformat": 4,
 "nbformat_minor": 5
}
